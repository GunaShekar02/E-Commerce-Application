{
 "cells": [
  {
   "cell_type": "code",
   "execution_count": null,
   "metadata": {},
   "outputs": [],
   "source": [
    "# Import Libraries\n",
    "import sqlite3\n",
    "import pandas as pd\n",
    "import numpy as np\n",
    "#!pip install mlxtend\n",
    "from mlxtend.frequent_patterns import apriori\n",
    "from mlxtend.frequent_patterns import association_rules\n",
    "from mlxtend.preprocessing import TransactionEncoder"
   ]
  },
  {
   "cell_type": "code",
   "execution_count": null,
   "metadata": {},
   "outputs": [],
   "source": [
    "# Load txt files into pandas and separate columns \n",
    "adhesiveSealantTrans = pd.read_csv(\"/path/to/file/containing/all/transactions\", header=0)\n",
    "allTransaction = pd.read_csv(\"/path/to/file/containing/all/transactionst\", header=0)"
   ]
  },
  {
   "cell_type": "code",
   "execution_count": null,
   "metadata": {},
   "outputs": [],
   "source": [
    "# Verify the data loaded correctly\n",
    "adhesiveSealantTrans.head()"
   ]
  },
  {
   "cell_type": "code",
   "execution_count": null,
   "metadata": {},
   "outputs": [],
   "source": [
    "# Verify the data loaded correctly\n",
    "allTransaction.head()"
   ]
  },
  {
   "cell_type": "code",
   "execution_count": null,
   "metadata": {},
   "outputs": [],
   "source": [
    "# Combine transaction data since adhesives/sealants do not need to be seperate from all other transactions\n",
    "frames = [adhesiveSealantTrans, allTransaction]\n",
    "allTransactions = pd.concat(frames)\n",
    "\n",
    "# Check data loaded correctly\n",
    "allTransactions.head()"
   ]
  },
  {
   "cell_type": "code",
   "execution_count": null,
   "metadata": {},
   "outputs": [],
   "source": [
    "# Drop sku and brand \n",
    "allTransactions.drop('sku', axis=1, inplace=True)\n",
    "allTransactions.drop('brand', axis=1, inplace=True)\n",
    "\n",
    "# Drop most broad categories and keep most granular\n",
    "allTransactions.drop('l1', axis=1, inplace=True)\n",
    "allTransactions.drop('l2', axis=1, inplace=True)"
   ]
  },
  {
   "cell_type": "code",
   "execution_count": null,
   "metadata": {},
   "outputs": [],
   "source": [
    "grouped = allTransactions.groupby('order_number')['l3'].apply(list)\n",
    "grouped.head()"
   ]
  },
  {
   "cell_type": "code",
   "execution_count": null,
   "metadata": {},
   "outputs": [],
   "source": [
    "#Filter out small orders\n",
    "filtered_group = [x for x in grouped if len(x)>=10 ]\n",
    "\n",
    "# Sample first few large orders\n",
    "filtered_group[:3]"
   ]
  },
  {
   "cell_type": "code",
   "execution_count": null,
   "metadata": {},
   "outputs": [],
   "source": [
    "# One-hot encode data in pandas dataframe\n",
    "te = TransactionEncoder()\n",
    "te_ary = te.fit(filtered_group).transform(filtered_group)\n",
    "transaction_group = pd.DataFrame(te_ary, columns=te.columns_)\n",
    "transaction_group.head()"
   ]
  },
  {
   "cell_type": "code",
   "execution_count": null,
   "metadata": {},
   "outputs": [],
   "source": [
    "# Find items with minimal support using apriori algorithm to show which have any possible relationship\n",
    "apriori(transaction_group, min_support=0.01, use_colnames=True)"
   ]
  },
  {
   "cell_type": "code",
   "execution_count": null,
   "metadata": {},
   "outputs": [],
   "source": [
    "# Find frequent item sets and and number of items in each order\n",
    "freq_itemsets = apriori(transaction_group, min_support=0.01, use_colnames=True)\n",
    "freq_itemsets['length'] = freq_itemsets['itemsets'].apply(lambda x : len(x))\n",
    "freq_itemsets.head()"
   ]
  },
  {
   "cell_type": "code",
   "execution_count": null,
   "metadata": {},
   "outputs": [],
   "source": [
    "#Filter out single-item orders \n",
    "freq_itemsets[ (freq_itemsets['length'] > 1) &\n",
    "             (freq_itemsets['support'] > 0.02) ]"
   ]
  },
  {
   "cell_type": "code",
   "execution_count": null,
   "metadata": {},
   "outputs": [],
   "source": [
    "# Generate association rules to make recommendations using lift metric to choose items that are purchased together \n",
    "# more often than expected\n",
    "rules = association_rules(freq_itemsets, metric=\"lift\", min_threshold=1)\n",
    "rules.head()"
   ]
  },
  {
   "cell_type": "code",
   "execution_count": null,
   "metadata": {},
   "outputs": [],
   "source": [
    "# Filter items and save\n",
    "saved_recs = rules[ (rules['lift'] >= 6) &\n",
    "     rules['confidence'] >= 0.8]\n",
    "\n",
    "# Check saved dataframe\n",
    "saved_recs.sort_values(by=['confidence'], ascending=False)"
   ]
  },
  {
   "cell_type": "code",
   "execution_count": null,
   "metadata": {},
   "outputs": [],
   "source": [
    "# Save Recs to csv\n",
    "saved_recs.to_csv('recommendations.csv', index=False)"
   ]
  }
 ],
 "metadata": {
  "kernelspec": {
   "display_name": "Python 3",
   "language": "python",
   "name": "python3"
  },
  "language_info": {
   "codemirror_mode": {
    "name": "ipython",
    "version": 3
   },
   "file_extension": ".py",
   "mimetype": "text/x-python",
   "name": "python",
   "nbconvert_exporter": "python",
   "pygments_lexer": "ipython3",
   "version": "3.6.8"
  }
 },
 "nbformat": 4,
 "nbformat_minor": 2
}
